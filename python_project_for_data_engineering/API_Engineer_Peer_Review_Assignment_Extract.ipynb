{
 "cells": [
  {
   "cell_type": "markdown",
   "metadata": {},
   "source": [
    "<center>\n",
    "    <img src=\"https://gitlab.com/ibm/skills-network/courses/placeholder101/-/raw/master/labs/module%201/images/IDSNlogo.png\" width=\"300\" alt=\"cognitiveclass.ai logo\"  />\n",
    "</center>\n"
   ]
  },
  {
   "cell_type": "markdown",
   "metadata": {},
   "source": [
    "# Peer Review Assignment - Data Engineer - Extract API Data\n"
   ]
  },
  {
   "cell_type": "markdown",
   "metadata": {},
   "source": [
    "Estimated time needed: **20** minutes\n"
   ]
  },
  {
   "cell_type": "markdown",
   "metadata": {},
   "source": [
    "## Objectives\n",
    "\n",
    "In this part you will:\n",
    "\n",
    "*   Collect exchange rate data using an API\n",
    "*   Store the data as a CSV\n"
   ]
  },
  {
   "cell_type": "markdown",
   "metadata": {},
   "source": [
    "For this lab, we are going to be using Python and several Python libraries. Some of these libraries might be installed in your lab environment or in SN Labs. Others may need to be installed by you. The cells below will install these libraries when executed.\n"
   ]
  },
  {
   "cell_type": "code",
   "execution_count": null,
   "metadata": {},
   "outputs": [],
   "source": [
    "#!pip install pandas\n",
    "#!pip install requests"
   ]
  },
  {
   "cell_type": "markdown",
   "metadata": {},
   "source": [
    "## Imports\n",
    "\n",
    "Import any additional libraries you may need here.\n"
   ]
  },
  {
   "cell_type": "code",
   "execution_count": 3,
   "metadata": {},
   "outputs": [],
   "source": [
    "import requests\n",
    "import pandas as pd"
   ]
  },
  {
   "cell_type": "markdown",
   "metadata": {},
   "source": [
    "## Extract Data Using an API\n"
   ]
  },
  {
   "cell_type": "markdown",
   "metadata": {},
   "source": [
    "Using ExchangeRate-API we will extract currency exchange rate data. Use the below steps to get the access key and to get the data.\n",
    "\n",
    "1.  Open the url : [https://exchangeratesapi.io/](https://exchangeratesapi.io/?utm_medium=Exinfluencer&utm_source=Exinfluencer&utm_content=000026UJ&utm_term=10006555&utm_id=NA-SkillsNetwork-Channel-SkillsNetworkCoursesIBMDeveloperSkillsNetworkPY0221ENSkillsNetwork23455645-2021-01-01) and create a free account.\n",
    "2.  Once the account is created. You will get the Get the Free API key option on the top as shown below:\n",
    "\n",
    "<img src=\"https://cf-courses-data.s3.us.cloud-object-storage.appdomain.cloud/IBMDeveloperSkillsNetwork-PY0221EN-SkillsNetwork/labs/module%206/Final%20Assignment/Images/getapi.png\"/>\n",
    "\n",
    "3.  Copy the API key and use in the url in Question 1.\n"
   ]
  },
  {
   "cell_type": "markdown",
   "metadata": {},
   "source": [
    "### Call the API\n",
    "\n",
    "<b> Question 1</b> Using the `requests` library call the endpoint given above and save the text, remember the first few characters of the output:\n"
   ]
  },
  {
   "cell_type": "code",
   "execution_count": 4,
   "metadata": {},
   "outputs": [],
   "source": [
    "# Write your code here\n",
    "url = \"http://api.exchangeratesapi.io/v1/latest?base=EUR&access_key=7faf9e9489dce547f3e6833dddc0b25a\"  #Make sure to change ******* to your API key.\n",
    "\n",
    "response = requests.get(url)"
   ]
  },
  {
   "cell_type": "code",
   "execution_count": 28,
   "metadata": {},
   "outputs": [
    {
     "data": {
      "text/plain": [
       "<Response [200]>"
      ]
     },
     "execution_count": 28,
     "metadata": {},
     "output_type": "execute_result"
    }
   ],
   "source": [
    "response"
   ]
  },
  {
   "cell_type": "code",
   "execution_count": 5,
   "metadata": {},
   "outputs": [
    {
     "name": "stdout",
     "output_type": "stream",
     "text": [
      "{'Date': 'Sat, 18 Dec 2021 08:49:59 GMT', 'Content-Type': 'application/json; Charset=UTF-8', 'Transfer-Encoding': 'chunked', 'Connection': 'keep-alive', 'x-apilayer-transaction-id': 'df93820c-9218-481b-a932-47d90e661612', 'access-control-allow-methods': 'GET, HEAD, POST, PUT, PATCH, DELETE, OPTIONS', 'access-control-allow-origin': '*', 'x-request-time': '0.033', 'CF-Cache-Status': 'DYNAMIC', 'Report-To': '{\"endpoints\":[{\"url\":\"https:\\\\/\\\\/a.nel.cloudflare.com\\\\/report\\\\/v3?s=yAi8v0%2BJ%2B7a3Ig6G%2Fup6XV5ovIREd5ya2FkdcKWr1%2FfeJtua3kwGpydWSkibHThbn5Vgmj4BqDpkLHK%2FA4OAeOXLkP8kKDQXC0uxVdqeMYfb6rCQSjhNQzUBL%2Bhso1en9gC72ObuCMRq\"}],\"group\":\"cf-nel\",\"max_age\":604800}', 'NEL': '{\"success_fraction\":0,\"report_to\":\"cf-nel\",\"max_age\":604800}', 'Server': 'cloudflare', 'CF-RAY': '6bf7241969488684-MAD', 'Content-Encoding': 'gzip'}\n"
     ]
    }
   ],
   "source": [
    "print(response.headers)"
   ]
  },
  {
   "cell_type": "code",
   "execution_count": 6,
   "metadata": {},
   "outputs": [
    {
     "name": "stdout",
     "output_type": "stream",
     "text": [
      "request body: None\n"
     ]
    }
   ],
   "source": [
    "print(\"request body:\", response.request.body)"
   ]
  },
  {
   "cell_type": "code",
   "execution_count": 7,
   "metadata": {},
   "outputs": [
    {
     "name": "stdout",
     "output_type": "stream",
     "text": [
      "200\n"
     ]
    }
   ],
   "source": [
    "print(response.status_code)"
   ]
  },
  {
   "cell_type": "code",
   "execution_count": 8,
   "metadata": {},
   "outputs": [
    {
     "name": "stdout",
     "output_type": "stream",
     "text": [
      "{\"success\":true,\"timestamp\":1639816744,\"base\":\"EUR\",\"date\":\"2021-12-18\",\"rates\":{\"AED\":4.12787,\"AFN\":115.194974,\"ALL\":120.529037,\"AMD\":540.108577,\"ANG\":2.025471,\"AOA\":638.337406,\"ARS\":114.548897,\"AUD\":1.570618,\"AWG\":2.023419,\"AZN\":1.914938,\"BAM\":1.942099,\"BBD\":2.269286,\"BDT\":96.472053,\"BGN\":1.953916,\"BHD\":0.423728,\"BIF\":2248.743085,\"BMD\":1.12381,\"BND\":1.53416,\"BOB\":7.749011,\"BRL\":6.401674,\"BSD\":1.123869,\"BTC\":2.417575e-5,\"BTN\":84.471382,\"BWP\":13.175549,\"BYN\":2.845991,\"BYR\":22026.668898,\"BZD\":2.265364,\"CAD\":1.448681,\"CDF\":2250.991111,\"CHF\":1.038904,\"CLF\":0.034344,\"CLP\":947.66416,\"CNY\":7.164741,\"COP\":4466.379119,\"CRC\":717.229172,\"CUC\":1.12381,\"CUP\":29.780955,\"CVE\":110.474866,\"CZK\":25.220143,\"DJF\":199.723891,\"DKK\":7.436833,\"DOP\":64.001401,\"DZD\":156.234309,\"EGP\":17.690003,\"ERN\":16.857232,\"ETB\":54.561399,\"EUR\":1,\"FJD\":2.394155,\"FKP\":0.847778,\"GBP\":0.84912,\"GEL\":3.466998,\"GGP\":0.847778,\"GHS\":6.950808,\"GIP\":0.847778,\"GMD\":59.416254,\"GNF\":10451.43003,\"GTQ\":8.690359,\"GYD\":235.026267,\"HKD\":8.768694,\"HNL\":27.320249,\"HRK\":7.51728,\"HTG\":112.888374,\"HUF\":367.29514,\"IDR\":16166.844495,\"ILS\":3.51358,\"IMP\":0.847778,\"INR\":85.760728,\"IQD\":1640.762071,\"IRR\":47480.957587,\"ISK\":146.387877,\"JEP\":0.847778,\"JMD\":173.081539,\"JOD\":0.796336,\"JPY\":127.797951,\"KES\":127.107145,\"KGS\":95.298388,\"KHR\":4573.905619,\"KMF\":491.526285,\"KPW\":1011.428587,\"KRW\":1334.962661,\"KWD\":0.340571,\"KYD\":0.936574,\"KZT\":492.206656,\"LAK\":12418.096888,\"LBP\":1698.076755,\"LKR\":227.021641,\"LRD\":159.58136,\"LSL\":17.846526,\"LTL\":3.318318,\"LVL\":0.679782,\"LYD\":5.18119,\"MAD\":10.440619,\"MDL\":19.94885,\"MGA\":4450.286555,\"MKD\":61.115208,\"MMK\":2000.487403,\"MNT\":3212.280221,\"MOP\":9.032817,\"MRO\":401.199847,\"MUR\":49.281652,\"MVR\":17.310873,\"MWK\":918.71858,\"MXN\":23.420534,\"MYR\":4.740795,\"MZN\":71.733193,\"NAD\":17.846521,\"NGN\":460.942185,\"NIO\":39.760808,\"NOK\":10.155705,\"NPR\":135.155843,\"NZD\":1.659676,\"OMR\":0.43269,\"PAB\":1.123854,\"PEN\":4.535739,\"PGK\":3.944993,\"PHP\":56.060504,\"PKR\":200.207108,\"PLN\":4.630668,\"PYG\":7638.561195,\"QAR\":4.091834,\"RON\":4.949599,\"RSD\":117.604776,\"RUB\":83.357348,\"RWF\":1151.112593,\"SAR\":4.217529,\"SBD\":9.096028,\"SCR\":14.980462,\"SDG\":491.67085,\"SEK\":10.303653,\"SGD\":1.537271,\"SHP\":1.54794,\"SLL\":12609.144515,\"SOS\":656.305209,\"SRD\":24.19454,\"STD\":23260.590537,\"SVC\":9.83339,\"SYP\":2823.563604,\"SZL\":17.846513,\"THB\":37.473999,\"TJS\":12.683099,\"TMT\":3.933334,\"TND\":3.209643,\"TOP\":2.576165,\"TRY\":18.451273,\"TTD\":7.642668,\"TWD\":31.289337,\"TZS\":2590.381592,\"UAH\":30.631074,\"UGX\":3995.370407,\"USD\":1.12381,\"UYU\":49.872181,\"UZS\":12170.858752,\"VEF\":240304464683.14218,\"VND\":25827.954997,\"VUV\":127.274423,\"WST\":2.922097,\"XAF\":651.343293,\"XAG\":0.050245,\"XAU\":0.000625,\"XCD\":3.037152,\"XDR\":0.804005,\"XOF\":650.127923,\"XPF\":119.629945,\"YER\":281.233771,\"ZAR\":17.887008,\"ZMK\":10115.639348,\"ZMW\":18.476308,\"ZWL\":361.866245}}\n"
     ]
    }
   ],
   "source": [
    "print(response.text)"
   ]
  },
  {
   "cell_type": "code",
   "execution_count": 9,
   "metadata": {},
   "outputs": [
    {
     "data": {
      "text/plain": [
       "'application/json; Charset=UTF-8'"
      ]
     },
     "execution_count": 9,
     "metadata": {},
     "output_type": "execute_result"
    }
   ],
   "source": [
    "response.headers['Content-Type']"
   ]
  },
  {
   "cell_type": "code",
   "execution_count": 11,
   "metadata": {},
   "outputs": [
    {
     "data": {
      "text/plain": [
       "{'AED': 4.12787,\n",
       " 'AFN': 115.194974,\n",
       " 'ALL': 120.529037,\n",
       " 'AMD': 540.108577,\n",
       " 'ANG': 2.025471,\n",
       " 'AOA': 638.337406,\n",
       " 'ARS': 114.548897,\n",
       " 'AUD': 1.570618,\n",
       " 'AWG': 2.023419,\n",
       " 'AZN': 1.914938,\n",
       " 'BAM': 1.942099,\n",
       " 'BBD': 2.269286,\n",
       " 'BDT': 96.472053,\n",
       " 'BGN': 1.953916,\n",
       " 'BHD': 0.423728,\n",
       " 'BIF': 2248.743085,\n",
       " 'BMD': 1.12381,\n",
       " 'BND': 1.53416,\n",
       " 'BOB': 7.749011,\n",
       " 'BRL': 6.401674,\n",
       " 'BSD': 1.123869,\n",
       " 'BTC': 2.417575e-05,\n",
       " 'BTN': 84.471382,\n",
       " 'BWP': 13.175549,\n",
       " 'BYN': 2.845991,\n",
       " 'BYR': 22026.668898,\n",
       " 'BZD': 2.265364,\n",
       " 'CAD': 1.448681,\n",
       " 'CDF': 2250.991111,\n",
       " 'CHF': 1.038904,\n",
       " 'CLF': 0.034344,\n",
       " 'CLP': 947.66416,\n",
       " 'CNY': 7.164741,\n",
       " 'COP': 4466.379119,\n",
       " 'CRC': 717.229172,\n",
       " 'CUC': 1.12381,\n",
       " 'CUP': 29.780955,\n",
       " 'CVE': 110.474866,\n",
       " 'CZK': 25.220143,\n",
       " 'DJF': 199.723891,\n",
       " 'DKK': 7.436833,\n",
       " 'DOP': 64.001401,\n",
       " 'DZD': 156.234309,\n",
       " 'EGP': 17.690003,\n",
       " 'ERN': 16.857232,\n",
       " 'ETB': 54.561399,\n",
       " 'EUR': 1,\n",
       " 'FJD': 2.394155,\n",
       " 'FKP': 0.847778,\n",
       " 'GBP': 0.84912,\n",
       " 'GEL': 3.466998,\n",
       " 'GGP': 0.847778,\n",
       " 'GHS': 6.950808,\n",
       " 'GIP': 0.847778,\n",
       " 'GMD': 59.416254,\n",
       " 'GNF': 10451.43003,\n",
       " 'GTQ': 8.690359,\n",
       " 'GYD': 235.026267,\n",
       " 'HKD': 8.768694,\n",
       " 'HNL': 27.320249,\n",
       " 'HRK': 7.51728,\n",
       " 'HTG': 112.888374,\n",
       " 'HUF': 367.29514,\n",
       " 'IDR': 16166.844495,\n",
       " 'ILS': 3.51358,\n",
       " 'IMP': 0.847778,\n",
       " 'INR': 85.760728,\n",
       " 'IQD': 1640.762071,\n",
       " 'IRR': 47480.957587,\n",
       " 'ISK': 146.387877,\n",
       " 'JEP': 0.847778,\n",
       " 'JMD': 173.081539,\n",
       " 'JOD': 0.796336,\n",
       " 'JPY': 127.797951,\n",
       " 'KES': 127.107145,\n",
       " 'KGS': 95.298388,\n",
       " 'KHR': 4573.905619,\n",
       " 'KMF': 491.526285,\n",
       " 'KPW': 1011.428587,\n",
       " 'KRW': 1334.962661,\n",
       " 'KWD': 0.340571,\n",
       " 'KYD': 0.936574,\n",
       " 'KZT': 492.206656,\n",
       " 'LAK': 12418.096888,\n",
       " 'LBP': 1698.076755,\n",
       " 'LKR': 227.021641,\n",
       " 'LRD': 159.58136,\n",
       " 'LSL': 17.846526,\n",
       " 'LTL': 3.318318,\n",
       " 'LVL': 0.679782,\n",
       " 'LYD': 5.18119,\n",
       " 'MAD': 10.440619,\n",
       " 'MDL': 19.94885,\n",
       " 'MGA': 4450.286555,\n",
       " 'MKD': 61.115208,\n",
       " 'MMK': 2000.487403,\n",
       " 'MNT': 3212.280221,\n",
       " 'MOP': 9.032817,\n",
       " 'MRO': 401.199847,\n",
       " 'MUR': 49.281652,\n",
       " 'MVR': 17.310873,\n",
       " 'MWK': 918.71858,\n",
       " 'MXN': 23.420534,\n",
       " 'MYR': 4.740795,\n",
       " 'MZN': 71.733193,\n",
       " 'NAD': 17.846521,\n",
       " 'NGN': 460.942185,\n",
       " 'NIO': 39.760808,\n",
       " 'NOK': 10.155705,\n",
       " 'NPR': 135.155843,\n",
       " 'NZD': 1.659676,\n",
       " 'OMR': 0.43269,\n",
       " 'PAB': 1.123854,\n",
       " 'PEN': 4.535739,\n",
       " 'PGK': 3.944993,\n",
       " 'PHP': 56.060504,\n",
       " 'PKR': 200.207108,\n",
       " 'PLN': 4.630668,\n",
       " 'PYG': 7638.561195,\n",
       " 'QAR': 4.091834,\n",
       " 'RON': 4.949599,\n",
       " 'RSD': 117.604776,\n",
       " 'RUB': 83.357348,\n",
       " 'RWF': 1151.112593,\n",
       " 'SAR': 4.217529,\n",
       " 'SBD': 9.096028,\n",
       " 'SCR': 14.980462,\n",
       " 'SDG': 491.67085,\n",
       " 'SEK': 10.303653,\n",
       " 'SGD': 1.537271,\n",
       " 'SHP': 1.54794,\n",
       " 'SLL': 12609.144515,\n",
       " 'SOS': 656.305209,\n",
       " 'SRD': 24.19454,\n",
       " 'STD': 23260.590537,\n",
       " 'SVC': 9.83339,\n",
       " 'SYP': 2823.563604,\n",
       " 'SZL': 17.846513,\n",
       " 'THB': 37.473999,\n",
       " 'TJS': 12.683099,\n",
       " 'TMT': 3.933334,\n",
       " 'TND': 3.209643,\n",
       " 'TOP': 2.576165,\n",
       " 'TRY': 18.451273,\n",
       " 'TTD': 7.642668,\n",
       " 'TWD': 31.289337,\n",
       " 'TZS': 2590.381592,\n",
       " 'UAH': 30.631074,\n",
       " 'UGX': 3995.370407,\n",
       " 'USD': 1.12381,\n",
       " 'UYU': 49.872181,\n",
       " 'UZS': 12170.858752,\n",
       " 'VEF': 240304464683.14218,\n",
       " 'VND': 25827.954997,\n",
       " 'VUV': 127.274423,\n",
       " 'WST': 2.922097,\n",
       " 'XAF': 651.343293,\n",
       " 'XAG': 0.050245,\n",
       " 'XAU': 0.000625,\n",
       " 'XCD': 3.037152,\n",
       " 'XDR': 0.804005,\n",
       " 'XOF': 650.127923,\n",
       " 'XPF': 119.629945,\n",
       " 'YER': 281.233771,\n",
       " 'ZAR': 17.887008,\n",
       " 'ZMK': 10115.639348,\n",
       " 'ZMW': 18.476308,\n",
       " 'ZWL': 361.866245}"
      ]
     },
     "execution_count": 11,
     "metadata": {},
     "output_type": "execute_result"
    }
   ],
   "source": [
    "response.json()['rates']"
   ]
  },
  {
   "cell_type": "markdown",
   "metadata": {
    "tags": []
   },
   "source": [
    "### Save as DataFrame\n",
    "\n",
    "<b> Question 2</b>  Using the data gathered turn it into a `pandas` dataframe. The dataframe should have the Currency as the index and `Rate` as their columns. Make sure to drop unnecessary columns.\n"
   ]
  },
  {
   "cell_type": "code",
   "execution_count": 18,
   "metadata": {},
   "outputs": [
    {
     "data": {
      "text/html": [
       "<div>\n",
       "<style scoped>\n",
       "    .dataframe tbody tr th:only-of-type {\n",
       "        vertical-align: middle;\n",
       "    }\n",
       "\n",
       "    .dataframe tbody tr th {\n",
       "        vertical-align: top;\n",
       "    }\n",
       "\n",
       "    .dataframe thead th {\n",
       "        text-align: right;\n",
       "    }\n",
       "</style>\n",
       "<table border=\"1\" class=\"dataframe\">\n",
       "  <thead>\n",
       "    <tr style=\"text-align: right;\">\n",
       "      <th></th>\n",
       "      <th>Rates</th>\n",
       "    </tr>\n",
       "  </thead>\n",
       "  <tbody>\n",
       "    <tr>\n",
       "      <th>AED</th>\n",
       "      <td>4.127870</td>\n",
       "    </tr>\n",
       "    <tr>\n",
       "      <th>AFN</th>\n",
       "      <td>115.194974</td>\n",
       "    </tr>\n",
       "    <tr>\n",
       "      <th>ALL</th>\n",
       "      <td>120.529037</td>\n",
       "    </tr>\n",
       "    <tr>\n",
       "      <th>AMD</th>\n",
       "      <td>540.108577</td>\n",
       "    </tr>\n",
       "    <tr>\n",
       "      <th>ANG</th>\n",
       "      <td>2.025471</td>\n",
       "    </tr>\n",
       "    <tr>\n",
       "      <th>...</th>\n",
       "      <td>...</td>\n",
       "    </tr>\n",
       "    <tr>\n",
       "      <th>YER</th>\n",
       "      <td>281.233771</td>\n",
       "    </tr>\n",
       "    <tr>\n",
       "      <th>ZAR</th>\n",
       "      <td>17.887008</td>\n",
       "    </tr>\n",
       "    <tr>\n",
       "      <th>ZMK</th>\n",
       "      <td>10115.639348</td>\n",
       "    </tr>\n",
       "    <tr>\n",
       "      <th>ZMW</th>\n",
       "      <td>18.476308</td>\n",
       "    </tr>\n",
       "    <tr>\n",
       "      <th>ZWL</th>\n",
       "      <td>361.866245</td>\n",
       "    </tr>\n",
       "  </tbody>\n",
       "</table>\n",
       "<p>168 rows × 1 columns</p>\n",
       "</div>"
      ],
      "text/plain": [
       "            Rates\n",
       "AED      4.127870\n",
       "AFN    115.194974\n",
       "ALL    120.529037\n",
       "AMD    540.108577\n",
       "ANG      2.025471\n",
       "..            ...\n",
       "YER    281.233771\n",
       "ZAR     17.887008\n",
       "ZMK  10115.639348\n",
       "ZMW     18.476308\n",
       "ZWL    361.866245\n",
       "\n",
       "[168 rows x 1 columns]"
      ]
     },
     "execution_count": 18,
     "metadata": {},
     "output_type": "execute_result"
    }
   ],
   "source": [
    "# Turn the data into a dataframe\n",
    "df = pd.DataFrame.from_dict(response.json()['rates'], \n",
    "                            orient='index', \n",
    "                            columns=['Rates'])\n",
    "df"
   ]
  },
  {
   "cell_type": "code",
   "execution_count": 16,
   "metadata": {},
   "outputs": [
    {
     "data": {
      "text/plain": [
       "Index(['AED', 'AFN', 'ALL', 'AMD', 'ANG', 'AOA', 'ARS', 'AUD', 'AWG', 'AZN',\n",
       "       ...\n",
       "       'XAU', 'XCD', 'XDR', 'XOF', 'XPF', 'YER', 'ZAR', 'ZMK', 'ZMW', 'ZWL'],\n",
       "      dtype='object', length=168)"
      ]
     },
     "execution_count": 16,
     "metadata": {},
     "output_type": "execute_result"
    }
   ],
   "source": [
    "df.index"
   ]
  },
  {
   "cell_type": "code",
   "execution_count": null,
   "metadata": {},
   "outputs": [],
   "source": [
    "# Drop unnescessary columns\n"
   ]
  },
  {
   "cell_type": "markdown",
   "metadata": {},
   "source": [
    "### Load the Data\n",
    "\n",
    "Using the dataframe save it as a CSV names `exchange_rates_1.csv`.\n"
   ]
  },
  {
   "cell_type": "code",
   "execution_count": 25,
   "metadata": {},
   "outputs": [],
   "source": [
    "# Save the Dataframe\n",
    "df.to_csv('exchange_rates_1.csv', sep=',', index=True)"
   ]
  },
  {
   "cell_type": "markdown",
   "metadata": {},
   "source": [
    "Your CSV should be in this format with more currencies\n",
    "\n",
    "|     | Rates      |\n",
    "| --- | ---------- |\n",
    "| AED | 4.398618   |\n",
    "| AFN | 92.917693  |\n",
    "| ALL | 123.099093 |\n",
    "| AMD | 621.935674 |\n",
    "| ANG | 2.149648   |\n"
   ]
  },
  {
   "cell_type": "code",
   "execution_count": 27,
   "metadata": {},
   "outputs": [
    {
     "data": {
      "text/html": [
       "<div>\n",
       "<style scoped>\n",
       "    .dataframe tbody tr th:only-of-type {\n",
       "        vertical-align: middle;\n",
       "    }\n",
       "\n",
       "    .dataframe tbody tr th {\n",
       "        vertical-align: top;\n",
       "    }\n",
       "\n",
       "    .dataframe thead th {\n",
       "        text-align: right;\n",
       "    }\n",
       "</style>\n",
       "<table border=\"1\" class=\"dataframe\">\n",
       "  <thead>\n",
       "    <tr style=\"text-align: right;\">\n",
       "      <th></th>\n",
       "      <th>Rates</th>\n",
       "    </tr>\n",
       "  </thead>\n",
       "  <tbody>\n",
       "    <tr>\n",
       "      <th>AED</th>\n",
       "      <td>4.127870</td>\n",
       "    </tr>\n",
       "    <tr>\n",
       "      <th>AFN</th>\n",
       "      <td>115.194974</td>\n",
       "    </tr>\n",
       "    <tr>\n",
       "      <th>ALL</th>\n",
       "      <td>120.529037</td>\n",
       "    </tr>\n",
       "    <tr>\n",
       "      <th>AMD</th>\n",
       "      <td>540.108577</td>\n",
       "    </tr>\n",
       "    <tr>\n",
       "      <th>ANG</th>\n",
       "      <td>2.025471</td>\n",
       "    </tr>\n",
       "    <tr>\n",
       "      <th>...</th>\n",
       "      <td>...</td>\n",
       "    </tr>\n",
       "    <tr>\n",
       "      <th>YER</th>\n",
       "      <td>281.233771</td>\n",
       "    </tr>\n",
       "    <tr>\n",
       "      <th>ZAR</th>\n",
       "      <td>17.887008</td>\n",
       "    </tr>\n",
       "    <tr>\n",
       "      <th>ZMK</th>\n",
       "      <td>10115.639348</td>\n",
       "    </tr>\n",
       "    <tr>\n",
       "      <th>ZMW</th>\n",
       "      <td>18.476308</td>\n",
       "    </tr>\n",
       "    <tr>\n",
       "      <th>ZWL</th>\n",
       "      <td>361.866245</td>\n",
       "    </tr>\n",
       "  </tbody>\n",
       "</table>\n",
       "<p>168 rows × 1 columns</p>\n",
       "</div>"
      ],
      "text/plain": [
       "            Rates\n",
       "AED      4.127870\n",
       "AFN    115.194974\n",
       "ALL    120.529037\n",
       "AMD    540.108577\n",
       "ANG      2.025471\n",
       "..            ...\n",
       "YER    281.233771\n",
       "ZAR     17.887008\n",
       "ZMK  10115.639348\n",
       "ZMW     18.476308\n",
       "ZWL    361.866245\n",
       "\n",
       "[168 rows x 1 columns]"
      ]
     },
     "execution_count": 27,
     "metadata": {},
     "output_type": "execute_result"
    }
   ],
   "source": [
    "pd.read_csv('exchange_rates_1.csv', sep=',', index_col=0)"
   ]
  },
  {
   "cell_type": "markdown",
   "metadata": {},
   "source": [
    "## Authors\n"
   ]
  },
  {
   "cell_type": "markdown",
   "metadata": {},
   "source": [
    "Ramesh Sannareddy, Joseph Santarcangelo and Azim Hirjani\n"
   ]
  },
  {
   "cell_type": "markdown",
   "metadata": {},
   "source": [
    "### Other Contributors\n"
   ]
  },
  {
   "cell_type": "markdown",
   "metadata": {},
   "source": [
    "Rav Ahuja\n"
   ]
  },
  {
   "cell_type": "markdown",
   "metadata": {},
   "source": [
    "## Change Log\n"
   ]
  },
  {
   "cell_type": "markdown",
   "metadata": {},
   "source": [
    "| Date (YYYY-MM-DD) | Version | Changed By        | Change Description                 |\n",
    "| ----------------- | ------- | ----------------- | ---------------------------------- |\n",
    "| 2021-04-15        | 0.2     | Malika            | Updated the lab from USD to EUR    |\n",
    "| 2020-11-25        | 0.1     | Ramesh Sannareddy | Created initial version of the lab |\n"
   ]
  },
  {
   "cell_type": "markdown",
   "metadata": {},
   "source": [
    "Copyright © 2020 IBM Corporation. This notebook and its source code are released under the terms of the [MIT License](https://cognitiveclass.ai/mit-license?utm_medium=Exinfluencer&utm_source=Exinfluencer&utm_content=000026UJ&utm_term=10006555&utm_id=NA-SkillsNetwork-Channel-SkillsNetworkCoursesIBMDeveloperSkillsNetworkPY0221ENSkillsNetwork23455645-2021-01-01&cm_mmc=Email_Newsletter-\\_-Developer_Ed%2BTech-\\_-WW_WW-\\_-SkillsNetwork-Courses-IBM-DA0321EN-SkillsNetwork-21426264&cm_mmca1=000026UJ&cm_mmca2=10006555&cm_mmca3=M12345678&cvosrc=email.Newsletter.M12345678&cvo_campaign=000026UJ).\n"
   ]
  }
 ],
 "metadata": {
  "kernelspec": {
   "display_name": "Python 3 (ipykernel)",
   "language": "python",
   "name": "python3"
  },
  "language_info": {
   "codemirror_mode": {
    "name": "ipython",
    "version": 3
   },
   "file_extension": ".py",
   "mimetype": "text/x-python",
   "name": "python",
   "nbconvert_exporter": "python",
   "pygments_lexer": "ipython3",
   "version": "3.8.8"
  }
 },
 "nbformat": 4,
 "nbformat_minor": 4
}
